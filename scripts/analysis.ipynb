{
 "cells": [
  {
   "cell_type": "markdown",
   "metadata": {},
   "source": [
    "# Package Tutorial: reddit_ideology"
   ]
  },
  {
   "cell_type": "markdown",
   "metadata": {},
   "source": [
    "## Step 1: Install Package"
   ]
  },
  {
   "cell_type": "code",
   "execution_count": 1,
   "metadata": {},
   "outputs": [],
   "source": [
    "%pip install -e ..\n",
    "\n",
    "%load_ext autoreload\n",
    "%autoreload 2"
   ]
  },
  {
   "cell_type": "markdown",
   "metadata": {},
   "source": [
    "## Step 2: Load Package & config.yaml"
   ]
  },
  {
   "cell_type": "code",
   "execution_count": 8,
   "metadata": {},
   "outputs": [
    {
     "name": "stdout",
     "output_type": "stream",
     "text": [
      "Adding to sys.path: /Users/isaacharlem/Desktop/css_package/src\n",
      "sys.path now contains:\n",
      "   /Users/isaacharlem/Desktop/css_package/src\n",
      "   /opt/anaconda3/envs/css_model/lib/python310.zip\n",
      "   /opt/anaconda3/envs/css_model/lib/python3.10\n",
      "   /opt/anaconda3/envs/css_model/lib/python3.10/lib-dynload\n",
      "   \n"
     ]
    },
    {
     "data": {
      "text/plain": [
       "{'data': {'conservative_path': '../data/cons_data.json',\n",
       "  'liberal_path': '../data/lib_data.json'},\n",
       " 'embedding': {'model_name': 'sentence-transformers/all-mpnet-base-v2',\n",
       "  'batch_size': 128,\n",
       "  'device': 'mps'},\n",
       " 'topic_model': {'method': 'cluster',\n",
       "  'cluster': {'umap_neighbors': 15,\n",
       "   'umap_min_dist': 0.0,\n",
       "   'hdbscan_min_cluster_size': 15}},\n",
       " 'analysis': {'time_interval': 'Y'},\n",
       " 'events': [{'name': 'Election 2012', 'date': '2012-11-06'},\n",
       "  {'name': 'ACA Ruling', 'date': '2012-06-28'},\n",
       "  {'name': 'Election 2016', 'date': '2016-11-08'},\n",
       "  {'name': 'Obergefell v. Hodges', 'date': '2015-06-26'}],\n",
       " 'output': {'cache_dir': '../results/cache',\n",
       "  'plots_dir': '../results/plots',\n",
       "  'metrics_dir': '../results/metrics'}}"
      ]
     },
     "execution_count": 8,
     "metadata": {},
     "output_type": "execute_result"
    }
   ],
   "source": [
    "import sys, os\n",
    "import numpy as np\n",
    "\n",
    "PROJECT_ROOT = os.path.abspath(os.path.join(\"..\"))    # from scripts/ up to css_package/\n",
    "SRC_PATH     = os.path.join(PROJECT_ROOT, \"src\")      # …/css_package/src\n",
    "print(\"Adding to sys.path:\", SRC_PATH)\n",
    "if SRC_PATH not in sys.path:\n",
    "    sys.path.insert(0, SRC_PATH)\n",
    "\n",
    "print(\"sys.path now contains:\")\n",
    "for p in sys.path[:5]:\n",
    "    print(\"  \", p)\n",
    "\n",
    "from reddit_ideology import (\n",
    "    load_config,\n",
    "    DataLoader,\n",
    "    Preprocessor,\n",
    "    EmbeddingModel,\n",
    "    TopicModel,\n",
    "    MetricsCalculator,\n",
    "    Visualizer\n",
    ")\n",
    "\n",
    "config = load_config(\"../config.yaml\")\n",
    "config"
   ]
  },
  {
   "cell_type": "markdown",
   "metadata": {},
   "source": [
    "## Step 3: Load in Data"
   ]
  },
  {
   "cell_type": "code",
   "execution_count": 10,
   "metadata": {},
   "outputs": [
    {
     "data": {
      "text/html": [
       "<div>\n",
       "<style scoped>\n",
       "    .dataframe tbody tr th:only-of-type {\n",
       "        vertical-align: middle;\n",
       "    }\n",
       "\n",
       "    .dataframe tbody tr th {\n",
       "        vertical-align: top;\n",
       "    }\n",
       "\n",
       "    .dataframe thead th {\n",
       "        text-align: right;\n",
       "    }\n",
       "</style>\n",
       "<table border=\"1\" class=\"dataframe\">\n",
       "  <thead>\n",
       "    <tr style=\"text-align: right;\">\n",
       "      <th></th>\n",
       "      <th>timestamp</th>\n",
       "      <th>text</th>\n",
       "      <th>subreddit</th>\n",
       "    </tr>\n",
       "  </thead>\n",
       "  <tbody>\n",
       "    <tr>\n",
       "      <th>0</th>\n",
       "      <td>2011-05-03 14:01:23</td>\n",
       "      <td>We’re still seeing a flood of calls from both ...</td>\n",
       "      <td>conservative</td>\n",
       "    </tr>\n",
       "    <tr>\n",
       "      <th>1</th>\n",
       "      <td>2011-05-04 16:08:36</td>\n",
       "      <td>In a story about the resurrection of the harsh...</td>\n",
       "      <td>conservative</td>\n",
       "    </tr>\n",
       "    <tr>\n",
       "      <th>2</th>\n",
       "      <td>2011-05-05 06:52:52</td>\n",
       "      <td>Political Byline This blog is no longer active...</td>\n",
       "      <td>conservative</td>\n",
       "    </tr>\n",
       "    <tr>\n",
       "      <th>3</th>\n",
       "      <td>2011-05-05 11:04:22</td>\n",
       "      <td>Our results underscore the decisive relevance ...</td>\n",
       "      <td>conservative</td>\n",
       "    </tr>\n",
       "    <tr>\n",
       "      <th>4</th>\n",
       "      <td>2011-05-05 15:45:56</td>\n",
       "      <td>by Martin and Marcia The most recent double is...</td>\n",
       "      <td>conservative</td>\n",
       "    </tr>\n",
       "  </tbody>\n",
       "</table>\n",
       "</div>"
      ],
      "text/plain": [
       "            timestamp                                               text  \\\n",
       "0 2011-05-03 14:01:23  We’re still seeing a flood of calls from both ...   \n",
       "1 2011-05-04 16:08:36  In a story about the resurrection of the harsh...   \n",
       "2 2011-05-05 06:52:52  Political Byline This blog is no longer active...   \n",
       "3 2011-05-05 11:04:22  Our results underscore the decisive relevance ...   \n",
       "4 2011-05-05 15:45:56  by Martin and Marcia The most recent double is...   \n",
       "\n",
       "      subreddit  \n",
       "0  conservative  \n",
       "1  conservative  \n",
       "2  conservative  \n",
       "3  conservative  \n",
       "4  conservative  "
      ]
     },
     "execution_count": 10,
     "metadata": {},
     "output_type": "execute_result"
    }
   ],
   "source": [
    "dl = DataLoader(\n",
    "    config['data']['conservative_path'],\n",
    "    config['data']['liberal_path']\n",
    ")\n",
    "cons_df, lib_df = dl.load()\n",
    "\n",
    "cons_df.head()"
   ]
  },
  {
   "cell_type": "markdown",
   "metadata": {},
   "source": [
    "## Step 4: Preprocess Data"
   ]
  },
  {
   "cell_type": "code",
   "execution_count": 12,
   "metadata": {},
   "outputs": [
    {
     "data": {
      "text/html": [
       "<div>\n",
       "<style scoped>\n",
       "    .dataframe tbody tr th:only-of-type {\n",
       "        vertical-align: middle;\n",
       "    }\n",
       "\n",
       "    .dataframe tbody tr th {\n",
       "        vertical-align: top;\n",
       "    }\n",
       "\n",
       "    .dataframe thead th {\n",
       "        text-align: right;\n",
       "    }\n",
       "</style>\n",
       "<table border=\"1\" class=\"dataframe\">\n",
       "  <thead>\n",
       "    <tr style=\"text-align: right;\">\n",
       "      <th></th>\n",
       "      <th>text</th>\n",
       "      <th>clean_text</th>\n",
       "    </tr>\n",
       "  </thead>\n",
       "  <tbody>\n",
       "    <tr>\n",
       "      <th>0</th>\n",
       "      <td>We’re still seeing a flood of calls from both ...</td>\n",
       "      <td>were still seeing a flood of calls from both s...</td>\n",
       "    </tr>\n",
       "    <tr>\n",
       "      <th>1</th>\n",
       "      <td>In a story about the resurrection of the harsh...</td>\n",
       "      <td>in a story about the resurrection of the harsh...</td>\n",
       "    </tr>\n",
       "    <tr>\n",
       "      <th>2</th>\n",
       "      <td>Political Byline This blog is no longer active...</td>\n",
       "      <td>political byline this blog is no longer active...</td>\n",
       "    </tr>\n",
       "    <tr>\n",
       "      <th>3</th>\n",
       "      <td>Our results underscore the decisive relevance ...</td>\n",
       "      <td>our results underscore the decisive relevance ...</td>\n",
       "    </tr>\n",
       "    <tr>\n",
       "      <th>4</th>\n",
       "      <td>by Martin and Marcia The most recent double is...</td>\n",
       "      <td>by martin and marcia the most recent double is...</td>\n",
       "    </tr>\n",
       "  </tbody>\n",
       "</table>\n",
       "</div>"
      ],
      "text/plain": [
       "                                                text  \\\n",
       "0  We’re still seeing a flood of calls from both ...   \n",
       "1  In a story about the resurrection of the harsh...   \n",
       "2  Political Byline This blog is no longer active...   \n",
       "3  Our results underscore the decisive relevance ...   \n",
       "4  by Martin and Marcia The most recent double is...   \n",
       "\n",
       "                                          clean_text  \n",
       "0  were still seeing a flood of calls from both s...  \n",
       "1  in a story about the resurrection of the harsh...  \n",
       "2  political byline this blog is no longer active...  \n",
       "3  our results underscore the decisive relevance ...  \n",
       "4  by martin and marcia the most recent double is...  "
      ]
     },
     "execution_count": 12,
     "metadata": {},
     "output_type": "execute_result"
    }
   ],
   "source": [
    "pp = Preprocessor()\n",
    "cons_df = pp.apply(cons_df)\n",
    "lib_df = pp.apply(lib_df)\n",
    "\n",
    "cons_df[['text','clean_text']].head()"
   ]
  },
  {
   "cell_type": "markdown",
   "metadata": {},
   "source": [
    "## Step 5: Generate Embeddings"
   ]
  },
  {
   "cell_type": "code",
   "execution_count": null,
   "metadata": {},
   "outputs": [
    {
     "name": "stderr",
     "output_type": "stream",
     "text": [
      "Embedding conservative:  40%|████      | 70/173 [10:22<15:13,  8.87s/it]"
     ]
    }
   ],
   "source": [
    "emb_cfg = config['embedding']\n",
    "embedder = EmbeddingModel(\n",
    "    model_name=emb_cfg['model_name'],\n",
    "    batch_size=emb_cfg['batch_size'],\n",
    "    device=emb_cfg['device'],\n",
    "    cache_dir=config['output']['cache_dir']\n",
    ")\n",
    "cons_emb = embedder.embed(cons_df['clean_text'].tolist(), name=\"conservative\")\n",
    "lib_emb = embedder.embed(lib_df['clean_text'].tolist(), name=\"liberal\")\n",
    "\n",
    "print(\"Shapes:\", cons_emb.shape, lib_emb.shape)"
   ]
  },
  {
   "cell_type": "markdown",
   "metadata": {},
   "source": [
    "## Step 6: Topic Modeling via Clustering"
   ]
  },
  {
   "cell_type": "code",
   "execution_count": null,
   "metadata": {},
   "outputs": [],
   "source": [
    "tm_cfg = config['topic_model']['cluster']\n",
    "topic_model = TopicModel(\n",
    "    umap_neighbors=tm_cfg['umap_neighbors'],\n",
    "    umap_min_dist=tm_cfg['umap_min_dist'],\n",
    "    hdbscan_min_cluster_size=tm_cfg['hdbscan_min_cluster_size'],\n",
    "    cache_dir=config['output']['cache_dir']\n",
    ")\n",
    "cons_topics = topic_model.fit(cons_emb, name=\"conservative\")\n",
    "lib_topics = topic_model.fit(lib_emb, name=\"liberal\")\n",
    "\n",
    "print(\"Conservative topics:\", np.unique(cons_topics))\n",
    "print(\"Liberal topics:\", np.unique(lib_topics))"
   ]
  },
  {
   "cell_type": "markdown",
   "metadata": {},
   "source": [
    "## Step 7: Compute Metrics"
   ]
  },
  {
   "cell_type": "code",
   "execution_count": null,
   "metadata": {},
   "outputs": [],
   "source": [
    "mc = MetricsCalculator(config['output']['metrics_dir'])\n",
    "\n",
    "cons_metrics = mc.topic_entropy_and_count(\n",
    "    topics=cons_topics,\n",
    "    timestamps=cons_df['timestamp'],\n",
    "    freq=config['analysis']['time_interval']\n",
    ")\n",
    "lib_metrics = mc.topic_entropy_and_count(\n",
    "    topics=lib_topics,\n",
    "    timestamps=lib_df['timestamp'],\n",
    "    freq=config['analysis']['time_interval']\n",
    ")\n",
    "\n",
    "spread_df = mc.semantic_spread(\n",
    "    embeddings=np.vstack([cons_emb, lib_emb]),\n",
    "    topics=np.concatenate([cons_topics, lib_topics]),\n",
    "    timestamps=pd.concat([cons_df['timestamp'], lib_df['timestamp']]),\n",
    "    freq=config['analysis']['time_interval']\n",
    ")\n",
    "\n",
    "intra_cons = mc.intra_group_similarity(\n",
    "    embeddings=cons_emb,\n",
    "    timestamps=cons_df['timestamp'],\n",
    "    freq=config['analysis']['time_interval']\n",
    ")\n",
    "intra_lib = mc.intra_group_similarity(\n",
    "    embeddings=lib_emb,\n",
    "    timestamps=lib_df['timestamp'],\n",
    "    freq=config['analysis']['time_interval']\n",
    ")\n",
    "cross_sim = mc.cross_group_similarity(\n",
    "    emb1=cons_emb, emb2=lib_emb,\n",
    "    ts1=cons_df['timestamp'], ts2=lib_df['timestamp'],\n",
    "    freq=config['analysis']['time_interval']\n",
    ")\n",
    "\n",
    "cons_metrics.head()"
   ]
  },
  {
   "cell_type": "markdown",
   "metadata": {},
   "source": [
    "## Step 8: Visualize Results"
   ]
  },
  {
   "cell_type": "code",
   "execution_count": null,
   "metadata": {},
   "outputs": [],
   "source": [
    "from IPython.display import Image, display\n",
    "\n",
    "viz = Visualizer(config['output']['plots_dir'])\n",
    "\n",
    "# Q1: Diversity\n",
    "viz.plot_time_series(cons_metrics, 'period', 'entropy',\n",
    "                     title='Conservative Topic Entropy',\n",
    "                     filename='test_cons_entropy.png')\n",
    "viz.plot_time_series(lib_metrics,  'period', 'entropy',\n",
    "                     title='Liberal Topic Entropy',\n",
    "                     filename='test_lib_entropy.png')\n",
    "\n",
    "# Q2: Convergence\n",
    "viz.plot_time_series(cross_sim, 'period', 'cross_similarity',\n",
    "                     title='Cross-community Similarity',\n",
    "                     events=config['events'],\n",
    "                     filename='test_cross_similarity.png')\n",
    "\n",
    "# Q3: Echo chambers\n",
    "viz.plot_time_series(intra_cons, 'period', 'intra_similarity',\n",
    "                     title='Conservative Intra-group Sim',\n",
    "                     filename='test_intra_cons.png')\n",
    "viz.plot_time_series(intra_lib,  'period', 'intra_similarity',\n",
    "                     title='Liberal Intra-group Sim',\n",
    "                     filename='test_intra_lib.png')\n",
    "\n",
    "# Display\n",
    "for fn in [\n",
    "    'test_cons_entropy.png',\n",
    "    'test_lib_entropy.png',\n",
    "    'test_cross_similarity.png',\n",
    "    'test_intra_cons.png',\n",
    "    'test_intra_lib.png',\n",
    "]:\n",
    "    display(Image(filename=f\"{config['output']['plots_dir']}/{fn}\"))"
   ]
  }
 ],
 "metadata": {
  "kernelspec": {
   "display_name": "css_model",
   "language": "python",
   "name": "python3"
  },
  "language_info": {
   "codemirror_mode": {
    "name": "ipython",
    "version": 3
   },
   "file_extension": ".py",
   "mimetype": "text/x-python",
   "name": "python",
   "nbconvert_exporter": "python",
   "pygments_lexer": "ipython3",
   "version": "3.10.0"
  }
 },
 "nbformat": 4,
 "nbformat_minor": 2
}
